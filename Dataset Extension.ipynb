{
 "cells": [
  {
   "cell_type": "code",
   "execution_count": 1,
   "id": "64792b5b-7e24-4939-9409-bc80bcd329df",
   "metadata": {},
   "outputs": [],
   "source": [
    "import pandas as pd\n",
    "import random\n",
    "#Dataset Given\n",
    "df = pd.read_csv(\"Air_Fryer_Product_Reviews.csv\")\n",
    "df_unique = df.drop_duplicates().reset_index(drop=True)"
   ]
  },
  {
   "cell_type": "code",
   "execution_count": 2,
   "id": "7e1b1beb-5807-4a8d-9cc7-5155f1b19e8a",
   "metadata": {},
   "outputs": [
    {
     "data": {
      "text/plain": [
       "4965"
      ]
     },
     "execution_count": 2,
     "metadata": {},
     "output_type": "execute_result"
    }
   ],
   "source": [
    "df.duplicated().sum()"
   ]
  },
  {
   "cell_type": "code",
   "execution_count": 3,
   "id": "db4699dd-d059-4b47-b767-8eb918d73200",
   "metadata": {},
   "outputs": [
    {
     "data": {
      "text/plain": [
       "(5000, 2)"
      ]
     },
     "execution_count": 3,
     "metadata": {},
     "output_type": "execute_result"
    }
   ],
   "source": [
    "df.shape"
   ]
  },
  {
   "cell_type": "markdown",
   "id": "49e7ebf8-e562-4cbe-90aa-ce1de8cc3f97",
   "metadata": {},
   "source": [
    "My dataset contains only 35 unique records. So I will add more records using random phrases and adjectives so that my model learns instead of memorizing it"
   ]
  },
  {
   "cell_type": "code",
   "execution_count": 4,
   "id": "219ed971-f350-4867-a127-1aa89891e71d",
   "metadata": {},
   "outputs": [],
   "source": [
    "# Product names\n",
    "product_names = [\n",
    "    \"Philips Digital Air Fryer HD9252/90\",\n",
    "    \"Prestige Electric Air Fryer PAF 6.0\",\n",
    "    \"Havells Prolife Grande Air Fryer\",\n",
    "    \"Kent Hot Air Fryer 16033\",\n",
    "    \"Bajaj Majesty AFX7 Air Fryer\",\n",
    "    \"Inalsa Air Fryer Fry-Light 1400W\"\n",
    "]\n",
    "\n",
    "# Positive adjectives\n",
    "adjectives = [\"amazing\", \"decent\", \"quiet\", \"efficient\", \"durable\", \"easy to use\", \"compact\", \"stylish\"]\n",
    "adjectives2 = [\"healthy\", \"crispy\", \"quick\", \"convenient\", \"delicious\", \"tasty\", \"fast\", \"simple\"]\n",
    "\n",
    "# Negative adjectives\n",
    "negative_adjectives = [\"bad\", \"slow\", \"fragile\", \"overpriced\", \"noisy\", \"unreliable\", \"heavy\", \"complicated\"]\n",
    "negative_adjectives2 = [\"burnt\", \"soggy\", \"raw\", \"inconsistent\", \"oily\", \"messy\", \"uneven\", \"disappointing\"]"
   ]
  },
  {
   "cell_type": "markdown",
   "id": "1a511fa9-1867-4fee-b9aa-9620d11426bf",
   "metadata": {},
   "source": [
    "Phrases"
   ]
  },
  {
   "cell_type": "code",
   "execution_count": 5,
   "id": "82b73184-1d8d-4294-9c82-ffd55de602b5",
   "metadata": {},
   "outputs": [],
   "source": [
    "# Positive patterns\n",
    "positive_patterns = [\n",
    "    \"Really {adj}, makes cooking {adj2}.\",\n",
    "    \"I found it {adj} and very {adj2} for daily use.\",\n",
    "    \"This fryer is {adj}, and it helps with {adj2} meals.\",\n",
    "    \"Overall, {adj} product, works {adj2}.\",\n",
    "    \"It feels {adj}, especially when preparing {adj2} snacks.\",\n",
    "    \"Super {adj}! I can make {adj2} dishes quickly.\",\n",
    "    \"Not only {adj} but also {adj2}, highly recommend.\"\n",
    "]\n",
    "\n",
    "# Negative patterns\n",
    "negative_patterns = [\n",
    "    \"Sadly, not very {adj}, cooking feels {adj2}.\",\n",
    "    \"I found it {adj}, but the food turns out {adj2}.\",\n",
    "    \"This fryer is {adj}, making meals quite {adj2}.\",\n",
    "    \"Overall, {adj} build, but works {adj2}.\",\n",
    "    \"It feels {adj}, and snacks come out {adj2}.\",\n",
    "    \"Honestly, {adj} experience, food tasted {adj2}.\",\n",
    "    \"Not {adj} at all, results are always {adj2}.\",\n",
    "    \"Disappointed, it’s {adj} and leaves food {adj2}.\",\n",
    "    \"Looks {adj}, but the meals are {adj2}.\",\n",
    "    \"Not worth it, {adj} product, gives {adj2} results.\"\n",
    "]"
   ]
  },
  {
   "cell_type": "code",
   "execution_count": 6,
   "id": "3eea35a9-7dde-459a-850d-492adfe02538",
   "metadata": {},
   "outputs": [],
   "source": [
    "augmented_data = []\n",
    "\n",
    "# Generating augmented reviews from base reviews\n",
    "for _, row in df_unique.iterrows():\n",
    "    base_review = row[\"Review Text\"]\n",
    "    for _ in range(55):  # ~55 variations per review\n",
    "        product = random.choice(product_names)\n",
    "        \n",
    "        # Randomly choose positive or negative review\n",
    "        if random.choice([1, 0]) == 1:  # Positive\n",
    "            pattern = random.choice(positive_patterns)\n",
    "            adj1 = random.choice(adjectives)\n",
    "            adj2 = random.choice(adjectives2)\n",
    "        else:  # Negative\n",
    "            pattern = random.choice(negative_patterns)\n",
    "            adj1 = random.choice(negative_adjectives)\n",
    "            adj2 = random.choice(negative_adjectives2)\n",
    "        \n",
    "        new_review = f\"{base_review} {pattern.format(adj=adj1, adj2=adj2)}\"\n",
    "        augmented_data.append([product, new_review])"
   ]
  },
  {
   "cell_type": "code",
   "execution_count": 7,
   "id": "b0da98f3-7bb6-45f8-a63a-66891dc5f4d1",
   "metadata": {},
   "outputs": [],
   "source": [
    "# Convert augmented reviews into DataFrame\n",
    "df_augmented = pd.DataFrame(augmented_data, columns=[\"Product Name\", \"Review Text\"])"
   ]
  },
  {
   "cell_type": "code",
   "execution_count": 8,
   "id": "83c9403b-44a1-47c4-926d-d62d94360455",
   "metadata": {},
   "outputs": [],
   "source": [
    "original_data = []\n",
    "for _, row in df_unique.iterrows():\n",
    "    product = random.choice(product_names)   # assign random product\n",
    "    review_text = row[\"Review Text\"]\n",
    "    original_data.append([product, review_text])\n",
    "\n",
    "df_original = pd.DataFrame(original_data, columns=[\"Product Name\", \"Review Text\"])"
   ]
  },
  {
   "cell_type": "code",
   "execution_count": 9,
   "id": "401890ee-f484-47ce-a41f-2054b7514484",
   "metadata": {},
   "outputs": [],
   "source": [
    "# Combining original and augmented reviews\n",
    "df_combined = pd.concat([df_original, df_augmented], ignore_index=True)\n",
    "#df with 5000 records\n",
    "df_final = df_combined.sample(5000, random_state=42, replace=True).reset_index(drop=True)"
   ]
  },
  {
   "cell_type": "code",
   "execution_count": 10,
   "id": "a313d109-f1f7-426f-b1ab-d28164a71698",
   "metadata": {},
   "outputs": [
    {
     "name": "stdout",
     "output_type": "stream",
     "text": [
      "Final dataset saved as Air_Fryer_Reviews.csv with 5000 records \n"
     ]
    }
   ],
   "source": [
    "df_final.to_csv(r\"C:\\Users\\manas\\OneDrive\\Desktop\\Air_Fryer_Reviews.csv\", index=False)\n",
    "print(\"Final dataset saved as Air_Fryer_Reviews.csv with 5000 records \")"
   ]
  }
 ],
 "metadata": {
  "kernelspec": {
   "display_name": "Python 3 (ipykernel)",
   "language": "python",
   "name": "python3"
  },
  "language_info": {
   "codemirror_mode": {
    "name": "ipython",
    "version": 3
   },
   "file_extension": ".py",
   "mimetype": "text/x-python",
   "name": "python",
   "nbconvert_exporter": "python",
   "pygments_lexer": "ipython3",
   "version": "3.11.7"
  }
 },
 "nbformat": 4,
 "nbformat_minor": 5
}
