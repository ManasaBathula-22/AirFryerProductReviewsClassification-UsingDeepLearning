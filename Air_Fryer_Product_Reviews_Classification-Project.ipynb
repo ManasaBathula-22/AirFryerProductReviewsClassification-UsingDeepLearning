{
 "cells": [
  {
   "cell_type": "code",
   "execution_count": 1,
   "id": "23d74726-3fc9-497b-a10e-9c73ac11ad24",
   "metadata": {},
   "outputs": [],
   "source": [
    "import numpy as np\n",
    "import pandas as pd"
   ]
  },
  {
   "cell_type": "code",
   "execution_count": 2,
   "id": "38a37857-c5f9-4022-95e0-f317381ebb57",
   "metadata": {},
   "outputs": [],
   "source": [
    "df = pd.read_csv('Air_Fryer_Reviews.csv')"
   ]
  },
  {
   "cell_type": "code",
   "execution_count": 3,
   "id": "fd5200f9-c6e9-4d84-b473-6e714dec27d6",
   "metadata": {},
   "outputs": [
    {
     "data": {
      "text/plain": [
       "3245"
      ]
     },
     "execution_count": 3,
     "metadata": {},
     "output_type": "execute_result"
    }
   ],
   "source": [
    "df.duplicated().sum()"
   ]
  },
  {
   "cell_type": "code",
   "execution_count": 4,
   "id": "d085c3ef-c796-4560-810c-0c1107753de2",
   "metadata": {},
   "outputs": [
    {
     "data": {
      "text/plain": [
       "(5000, 2)"
      ]
     },
     "execution_count": 4,
     "metadata": {},
     "output_type": "execute_result"
    }
   ],
   "source": [
    "df.shape"
   ]
  },
  {
   "cell_type": "code",
   "execution_count": 5,
   "id": "85fab575-25f6-4d8f-8a57-0171e719cd6a",
   "metadata": {},
   "outputs": [],
   "source": [
    "df.drop_duplicates(inplace = True)"
   ]
  },
  {
   "cell_type": "code",
   "execution_count": 6,
   "id": "3e21bdea-ee4f-4ebb-8d6b-92ab2930a647",
   "metadata": {},
   "outputs": [
    {
     "data": {
      "text/plain": [
       "(1755, 2)"
      ]
     },
     "execution_count": 6,
     "metadata": {},
     "output_type": "execute_result"
    }
   ],
   "source": [
    "df.shape"
   ]
  },
  {
   "cell_type": "code",
   "execution_count": 7,
   "id": "12bccbfc-7c27-41cf-8943-1bdc55c13a02",
   "metadata": {},
   "outputs": [
    {
     "data": {
      "text/plain": [
       "Product Name    0\n",
       "Review Text     0\n",
       "dtype: int64"
      ]
     },
     "execution_count": 7,
     "metadata": {},
     "output_type": "execute_result"
    }
   ],
   "source": [
    "df.isnull().sum()"
   ]
  },
  {
   "cell_type": "code",
   "execution_count": 8,
   "id": "f1b99e9a-0b71-4621-b0c2-ba5da7864529",
   "metadata": {},
   "outputs": [
    {
     "data": {
      "text/html": [
       "<div>\n",
       "<style scoped>\n",
       "    .dataframe tbody tr th:only-of-type {\n",
       "        vertical-align: middle;\n",
       "    }\n",
       "\n",
       "    .dataframe tbody tr th {\n",
       "        vertical-align: top;\n",
       "    }\n",
       "\n",
       "    .dataframe thead th {\n",
       "        text-align: right;\n",
       "    }\n",
       "</style>\n",
       "<table border=\"1\" class=\"dataframe\">\n",
       "  <thead>\n",
       "    <tr style=\"text-align: right;\">\n",
       "      <th></th>\n",
       "      <th>Product Name</th>\n",
       "      <th>Review Text</th>\n",
       "    </tr>\n",
       "  </thead>\n",
       "  <tbody>\n",
       "    <tr>\n",
       "      <th>0</th>\n",
       "      <td>Inalsa Air Fryer Fry-Light 1400W</td>\n",
       "      <td>The air fryer struggles to cook thicker items ...</td>\n",
       "    </tr>\n",
       "    <tr>\n",
       "      <th>1</th>\n",
       "      <td>Bajaj Majesty AFX7 Air Fryer</td>\n",
       "      <td>The temperature control works fine but require...</td>\n",
       "    </tr>\n",
       "    <tr>\n",
       "      <th>2</th>\n",
       "      <td>Philips Digital Air Fryer HD9252/90</td>\n",
       "      <td>The timer is not very precise and can miss the...</td>\n",
       "    </tr>\n",
       "    <tr>\n",
       "      <th>3</th>\n",
       "      <td>Kent Hot Air Fryer 16033</td>\n",
       "      <td>The control panel is intuitive and the overall...</td>\n",
       "    </tr>\n",
       "    <tr>\n",
       "      <th>4</th>\n",
       "      <td>Prestige Electric Air Fryer PAF 6.0</td>\n",
       "      <td>The air fryer struggles to cook thicker items ...</td>\n",
       "    </tr>\n",
       "  </tbody>\n",
       "</table>\n",
       "</div>"
      ],
      "text/plain": [
       "                          Product Name  \\\n",
       "0     Inalsa Air Fryer Fry-Light 1400W   \n",
       "1         Bajaj Majesty AFX7 Air Fryer   \n",
       "2  Philips Digital Air Fryer HD9252/90   \n",
       "3             Kent Hot Air Fryer 16033   \n",
       "4  Prestige Electric Air Fryer PAF 6.0   \n",
       "\n",
       "                                         Review Text  \n",
       "0  The air fryer struggles to cook thicker items ...  \n",
       "1  The temperature control works fine but require...  \n",
       "2  The timer is not very precise and can miss the...  \n",
       "3  The control panel is intuitive and the overall...  \n",
       "4  The air fryer struggles to cook thicker items ...  "
      ]
     },
     "execution_count": 8,
     "metadata": {},
     "output_type": "execute_result"
    }
   ],
   "source": [
    "df.head()"
   ]
  },
  {
   "cell_type": "code",
   "execution_count": 9,
   "id": "96546a44-311f-4651-b3bf-9667d9e8a41c",
   "metadata": {},
   "outputs": [
    {
     "data": {
      "text/html": [
       "<div>\n",
       "<style scoped>\n",
       "    .dataframe tbody tr th:only-of-type {\n",
       "        vertical-align: middle;\n",
       "    }\n",
       "\n",
       "    .dataframe tbody tr th {\n",
       "        vertical-align: top;\n",
       "    }\n",
       "\n",
       "    .dataframe thead th {\n",
       "        text-align: right;\n",
       "    }\n",
       "</style>\n",
       "<table border=\"1\" class=\"dataframe\">\n",
       "  <thead>\n",
       "    <tr style=\"text-align: right;\">\n",
       "      <th></th>\n",
       "      <th>Product Name</th>\n",
       "      <th>Review Text</th>\n",
       "    </tr>\n",
       "  </thead>\n",
       "  <tbody>\n",
       "    <tr>\n",
       "      <th>count</th>\n",
       "      <td>1755</td>\n",
       "      <td>1755</td>\n",
       "    </tr>\n",
       "    <tr>\n",
       "      <th>unique</th>\n",
       "      <td>6</td>\n",
       "      <td>1729</td>\n",
       "    </tr>\n",
       "    <tr>\n",
       "      <th>top</th>\n",
       "      <td>Prestige Electric Air Fryer PAF 6.0</td>\n",
       "      <td>The overall build quality is acceptable but no...</td>\n",
       "    </tr>\n",
       "    <tr>\n",
       "      <th>freq</th>\n",
       "      <td>306</td>\n",
       "      <td>2</td>\n",
       "    </tr>\n",
       "  </tbody>\n",
       "</table>\n",
       "</div>"
      ],
      "text/plain": [
       "                               Product Name  \\\n",
       "count                                  1755   \n",
       "unique                                    6   \n",
       "top     Prestige Electric Air Fryer PAF 6.0   \n",
       "freq                                    306   \n",
       "\n",
       "                                              Review Text  \n",
       "count                                                1755  \n",
       "unique                                               1729  \n",
       "top     The overall build quality is acceptable but no...  \n",
       "freq                                                    2  "
      ]
     },
     "execution_count": 9,
     "metadata": {},
     "output_type": "execute_result"
    }
   ],
   "source": [
    "df.describe()"
   ]
  },
  {
   "cell_type": "code",
   "execution_count": 10,
   "id": "dc9fe4de-a5d8-4e59-8d76-34bf74272344",
   "metadata": {},
   "outputs": [
    {
     "data": {
      "text/plain": [
       "1729"
      ]
     },
     "execution_count": 10,
     "metadata": {},
     "output_type": "execute_result"
    }
   ],
   "source": [
    "df['Review Text'].nunique()"
   ]
  },
  {
   "cell_type": "code",
   "execution_count": 11,
   "id": "ca4eaf17-f1e3-4d72-b065-8beee80daa85",
   "metadata": {},
   "outputs": [],
   "source": [
    "import re"
   ]
  },
  {
   "cell_type": "code",
   "execution_count": 12,
   "id": "3715007b-b608-4169-9c66-407a1be2e57d",
   "metadata": {},
   "outputs": [],
   "source": [
    "df['Review Text'] = df['Review Text'].apply(lambda x: re.sub(r'[^a-z\\s]', '', x))"
   ]
  },
  {
   "cell_type": "code",
   "execution_count": 13,
   "id": "043bb025-68f3-43c7-a64e-06b86821c11c",
   "metadata": {},
   "outputs": [],
   "source": [
    "df.loc[:, 'Review Text'] = df['Review Text'].apply(lambda x: re.sub(r'\\s+', ' ', x))"
   ]
  },
  {
   "cell_type": "code",
   "execution_count": 14,
   "id": "1004e185-410c-47a5-a7b1-f98a363c41b1",
   "metadata": {},
   "outputs": [],
   "source": [
    "#DataPreprocessing\n",
    "#Lowercasing\n",
    "df['Review Text'] = df['Review Text'].str.lower()"
   ]
  },
  {
   "cell_type": "code",
   "execution_count": 15,
   "id": "f4f42dc4-0675-47b8-95a1-a01cb3a50b4f",
   "metadata": {},
   "outputs": [],
   "source": [
    "#Removing Punctuations and Special Characters\n",
    "df['Review Text'] = df['Review Text'].apply(lambda x: re.sub(r'[^a-z\\s]', '', x))"
   ]
  },
  {
   "cell_type": "code",
   "execution_count": 16,
   "id": "065a0690-322a-490d-8907-ae64f20bbcd5",
   "metadata": {},
   "outputs": [],
   "source": [
    "#Removing white spaces\n",
    "df['Review Text'] = df['Review Text'].apply(lambda x: re.sub(r'\\s+', ' ', x))"
   ]
  },
  {
   "cell_type": "code",
   "execution_count": 17,
   "id": "27852c8f-4933-4969-a30e-ce902c25ea30",
   "metadata": {},
   "outputs": [
    {
     "name": "stderr",
     "output_type": "stream",
     "text": [
      "[nltk_data] Downloading package stopwords to\n",
      "[nltk_data]     C:\\Users\\manas\\AppData\\Roaming\\nltk_data...\n",
      "[nltk_data]   Package stopwords is already up-to-date!\n"
     ]
    }
   ],
   "source": [
    "import nltk\n",
    "nltk.download('stopwords')\n",
    "from nltk.corpus import stopwords"
   ]
  },
  {
   "cell_type": "code",
   "execution_count": 18,
   "id": "a6c7b555-6c0d-468f-a0f5-068b3111785b",
   "metadata": {},
   "outputs": [],
   "source": [
    "#Removing stopwords\n",
    "stop_words = set(stopwords.words('english'))\n",
    "df['Review Text'] = df['Review Text'].apply(lambda x: ' '.join([word for word in x.split() if word not in stop_words]))"
   ]
  },
  {
   "cell_type": "code",
   "execution_count": 19,
   "id": "505f726e-bb5a-4e04-9c3a-b43126bc5fde",
   "metadata": {},
   "outputs": [
    {
     "name": "stderr",
     "output_type": "stream",
     "text": [
      "[nltk_data] Downloading package wordnet to\n",
      "[nltk_data]     C:\\Users\\manas\\AppData\\Roaming\\nltk_data...\n",
      "[nltk_data]   Package wordnet is already up-to-date!\n"
     ]
    }
   ],
   "source": [
    "#Lemmatization\n",
    "nltk.download('wordnet')\n",
    "from nltk.stem import WordNetLemmatizer\n",
    "\n",
    "lemmatizer = WordNetLemmatizer()\n",
    "df['Review Text'] = df['Review Text'].apply(lambda x: ' '.join([lemmatizer.lemmatize(word) for word in x.split()]))"
   ]
  },
  {
   "cell_type": "code",
   "execution_count": 20,
   "id": "fdf92691-f0f3-4078-9324-066424201804",
   "metadata": {},
   "outputs": [
    {
     "data": {
      "text/html": [
       "<div>\n",
       "<style scoped>\n",
       "    .dataframe tbody tr th:only-of-type {\n",
       "        vertical-align: middle;\n",
       "    }\n",
       "\n",
       "    .dataframe tbody tr th {\n",
       "        vertical-align: top;\n",
       "    }\n",
       "\n",
       "    .dataframe thead th {\n",
       "        text-align: right;\n",
       "    }\n",
       "</style>\n",
       "<table border=\"1\" class=\"dataframe\">\n",
       "  <thead>\n",
       "    <tr style=\"text-align: right;\">\n",
       "      <th></th>\n",
       "      <th>Product Name</th>\n",
       "      <th>Review Text</th>\n",
       "    </tr>\n",
       "  </thead>\n",
       "  <tbody>\n",
       "    <tr>\n",
       "      <th>0</th>\n",
       "      <td>Inalsa Air Fryer Fry-Light 1400W</td>\n",
       "      <td>air fryer struggle cook thicker item evenly so...</td>\n",
       "    </tr>\n",
       "    <tr>\n",
       "      <th>1</th>\n",
       "      <td>Bajaj Majesty AFX7 Air Fryer</td>\n",
       "      <td>temperature control work fine requires careful...</td>\n",
       "    </tr>\n",
       "    <tr>\n",
       "      <th>2</th>\n",
       "      <td>Philips Digital Air Fryer HD9252/90</td>\n",
       "      <td>timer precise miss set time minute onestly unr...</td>\n",
       "    </tr>\n",
       "    <tr>\n",
       "      <th>3</th>\n",
       "      <td>Kent Hot Air Fryer 16033</td>\n",
       "      <td>control panel intuitive overall build quality ...</td>\n",
       "    </tr>\n",
       "    <tr>\n",
       "      <th>4</th>\n",
       "      <td>Prestige Electric Air Fryer PAF 6.0</td>\n",
       "      <td>air fryer struggle cook thicker item evenly so...</td>\n",
       "    </tr>\n",
       "  </tbody>\n",
       "</table>\n",
       "</div>"
      ],
      "text/plain": [
       "                          Product Name  \\\n",
       "0     Inalsa Air Fryer Fry-Light 1400W   \n",
       "1         Bajaj Majesty AFX7 Air Fryer   \n",
       "2  Philips Digital Air Fryer HD9252/90   \n",
       "3             Kent Hot Air Fryer 16033   \n",
       "4  Prestige Electric Air Fryer PAF 6.0   \n",
       "\n",
       "                                         Review Text  \n",
       "0  air fryer struggle cook thicker item evenly so...  \n",
       "1  temperature control work fine requires careful...  \n",
       "2  timer precise miss set time minute onestly unr...  \n",
       "3  control panel intuitive overall build quality ...  \n",
       "4  air fryer struggle cook thicker item evenly so...  "
      ]
     },
     "execution_count": 20,
     "metadata": {},
     "output_type": "execute_result"
    }
   ],
   "source": [
    "df.head()"
   ]
  },
  {
   "cell_type": "code",
   "execution_count": 21,
   "id": "73b36c53-88dc-4542-81db-54ca9aafda1e",
   "metadata": {},
   "outputs": [],
   "source": [
    "#Text Vectorization\n",
    "#Word frequency analysis\n",
    "from collections import Counter\n",
    "all_words = ' '.join(df['Review Text']).split()\n",
    "word_freq = Counter(all_words)"
   ]
  },
  {
   "cell_type": "code",
   "execution_count": 22,
   "id": "2f34c62a-3ca1-41cb-98aa-644cd4b09cb0",
   "metadata": {},
   "outputs": [
    {
     "data": {
      "text/plain": [
       "[('fryer', 653),\n",
       " ('cooking', 606),\n",
       " ('food', 457),\n",
       " ('feel', 455),\n",
       " ('snack', 417),\n",
       " ('air', 399),\n",
       " ('make', 370),\n",
       " ('use', 365),\n",
       " ('result', 334),\n",
       " ('ot', 297)]"
      ]
     },
     "execution_count": 22,
     "metadata": {},
     "output_type": "execute_result"
    }
   ],
   "source": [
    "(word_freq.most_common(10))"
   ]
  },
  {
   "cell_type": "code",
   "execution_count": 23,
   "id": "cfb6cdb6-4725-4308-ba2c-4a4e853ab443",
   "metadata": {},
   "outputs": [
    {
     "data": {
      "text/plain": [
       "Review Text                                                                                                     Review_Length\n",
       "overall build quality acceptable premium expected feel fragile snack come disappointing                         11               2\n",
       "temperature setting limited suitable type recipe ot stylish also simple highly recommend                        12               2\n",
       "device easy use instruction could clearer onestly unreliable experience food tasted uneven                      12               2\n",
       "noise level noticeable manageable short cooking cycle verall amazing product work quick                         12               2\n",
       "preset cooking option accurate require manual adjustment ot worth unreliable product give disappointing result  14               2\n",
       "                                                                                                                                ..\n",
       "basket spacious easily cook portion people one go ot bad result always messy                                    13               1\n",
       "basket spacious easily cook portion people one go ot amazing also fast highly recommend                         14               1\n",
       "basket spacious easily cook portion people one go ooks slow meal inconsistent                                   12               1\n",
       "basket spacious easily cook portion people one go ooks overpriced meal oily                                     12               1\n",
       "touch control panel userfriendly presets make cooking hasslefree verall slow build work oily                    13               1\n",
       "Name: count, Length: 1729, dtype: int64"
      ]
     },
     "execution_count": 23,
     "metadata": {},
     "output_type": "execute_result"
    }
   ],
   "source": [
    "#Review length distribution\n",
    "df['Review_Length'] = df['Review Text'].apply(lambda x: len(x.split()))\n",
    "\n",
    "df[['Review Text','Review_Length']].value_counts()"
   ]
  },
  {
   "cell_type": "code",
   "execution_count": 24,
   "id": "cab9da18-45f0-4864-8721-61eecb4322aa",
   "metadata": {},
   "outputs": [
    {
     "data": {
      "text/plain": [
       "Review_Length\n",
       "6       7\n",
       "7       5\n",
       "8       6\n",
       "9       7\n",
       "10     16\n",
       "11    228\n",
       "12    291\n",
       "13    318\n",
       "14    329\n",
       "15    274\n",
       "16    152\n",
       "17     57\n",
       "18     41\n",
       "19     19\n",
       "20      5\n",
       "Name: count, dtype: int64"
      ]
     },
     "execution_count": 24,
     "metadata": {},
     "output_type": "execute_result"
    }
   ],
   "source": [
    "df['Review_Length'].value_counts().sort_index()"
   ]
  },
  {
   "cell_type": "code",
   "execution_count": 25,
   "id": "34a2f417-dee9-42dc-bd01-79d94f67f8d5",
   "metadata": {},
   "outputs": [
    {
     "data": {
      "text/plain": [
       "array(['air fryer struggle cook thicker item evenly sometimes leaving part undercooked fryer durable help fast meal',\n",
       "       'temperature control work fine requires careful monitoring even result found bad food turn raw',\n",
       "       'timer precise miss set time minute onestly unreliable experience food tasted oily',\n",
       "       ...,\n",
       "       'leaning simple basket tray nonstick dishwasher safe eally durable make cooking healthy',\n",
       "       'power button sometimes feel unresponsive need pressed multiple time isappointed slow leaf food oily',\n",
       "       'basket size good small portion feel limited family cooking feel quiet especially preparing delicious snack'],\n",
       "      dtype=object)"
      ]
     },
     "execution_count": 25,
     "metadata": {},
     "output_type": "execute_result"
    }
   ],
   "source": [
    "df['Review Text'].unique()"
   ]
  },
  {
   "cell_type": "code",
   "execution_count": 26,
   "id": "48488203-a8ee-4bd0-818f-2aa8e19a3103",
   "metadata": {},
   "outputs": [
    {
     "data": {
      "text/plain": [
       "1729"
      ]
     },
     "execution_count": 26,
     "metadata": {},
     "output_type": "execute_result"
    }
   ],
   "source": [
    "df['Review Text'].nunique()"
   ]
  },
  {
   "cell_type": "code",
   "execution_count": 27,
   "id": "f009ac83-8819-482b-bdd8-527339bea8ef",
   "metadata": {},
   "outputs": [],
   "source": [
    "import matplotlib.pyplot as plt"
   ]
  },
  {
   "cell_type": "code",
   "execution_count": 28,
   "id": "fa630ab5-7f48-4de7-9062-00a491a1ee58",
   "metadata": {},
   "outputs": [
    {
     "data": {
      "image/png": "[encoded data removed]",
      "text/plain": [
       "<Figure size 640x480 with 1 Axes>"
      ]
     },
     "metadata": {},
     "output_type": "display_data"
    }
   ],
   "source": [
    "plt.hist(df['Review_Length'], bins=30)\n",
    "plt.title(\"Review Length Distribution\")\n",
    "plt.show()"
   ]
  },
  {
   "cell_type": "markdown",
   "id": "74312559-a6a2-47c2-98c3-5f66f093e9f8",
   "metadata": {},
   "source": [
    "Tokenization"
   ]
  },
  {
   "cell_type": "code",
   "execution_count": 29,
   "id": "89a0f17a-eaea-432e-a986-25bc9d796006",
   "metadata": {},
   "outputs": [],
   "source": [
    "df['Tokens'] = df['Review Text'].apply(lambda x: x.split())"
   ]
  },
  {
   "cell_type": "markdown",
   "id": "c3660234-f9ba-43b4-be95-fbe2f2c7ebbf",
   "metadata": {},
   "source": [
    "Text Vectorization"
   ]
  },
  {
   "cell_type": "code",
   "execution_count": 30,
   "id": "ccb77793-8c23-48e1-a18f-91654f5004fe",
   "metadata": {},
   "outputs": [],
   "source": [
    "glove_dict = {}"
   ]
  },
  {
   "cell_type": "code",
   "execution_count": 31,
   "id": "54a89bc4-ee0a-4f57-8983-244dba995599",
   "metadata": {},
   "outputs": [],
   "source": [
    "with open(\"glove.6B.50d.txt\", \"r\", encoding=\"utf8\") as file:\n",
    "    for line in file:\n",
    "        values = line.strip().split()\n",
    "        word = values[0]\n",
    "        vector = []\n",
    "        for number in values[1:]:\n",
    "            vector.append(float(number))\n",
    "        glove_dict[word] = vector"
   ]
  },
  {
   "cell_type": "code",
   "execution_count": 32,
   "id": "1af3079b-ea59-4ba7-8041-0ac4f0da645c",
   "metadata": {},
   "outputs": [],
   "source": [
    "#1 vwctor for each review\n",
    "review_vectors = []\n",
    "for idx, row in df.iterrows():\n",
    "    tokens = row['Tokens']\n",
    "    word_vectors = []\n",
    "    for word in tokens:\n",
    "        if word in glove_dict:\n",
    "            word_vectors.append(glove_dict[word])\n",
    "    if len(word_vectors) > 0:\n",
    "        avg_vector = np.mean(word_vectors, axis=0)\n",
    "    else:\n",
    "        avg_vector = np.zeros(50)\n",
    "    review_vectors.append(avg_vector)"
   ]
  },
  {
   "cell_type": "code",
   "execution_count": 33,
   "id": "9554684f-e38e-4431-bf97-d3aea67ebd87",
   "metadata": {},
   "outputs": [],
   "source": [
    "# list of vectors to numpy array\n",
    "vectors = np.array(review_vectors)"
   ]
  },
  {
   "cell_type": "markdown",
   "id": "da6f9d27-21ae-4310-b42f-f268a1a01c7f",
   "metadata": {},
   "source": [
    "Rule Based Labelling"
   ]
  },
  {
   "cell_type": "code",
   "execution_count": 34,
   "id": "6c2bcdd1-0c87-4cbf-abdb-7b707166c03c",
   "metadata": {},
   "outputs": [],
   "source": [
    "positive_words = ['easy', 'convenient', 'healthy', 'crispy', 'quick', 'versatile','efficient', 'affordable', 'durable', 'compact', 'lightweight','perfect', 'amazing', 'fantastic', 'reliable','simple', 'userfriendly', 'portable', 'powerful', 'safe', 'quiet','energy-saving', 'time-saving', 'modern', 'stylish', 'nonstick']\n",
    "negative_words = ['noisy', 'bulky', 'expensive', 'fragile', 'complicated', 'slow', 'smelly', 'inconvenient', 'heavy', 'unreliable', 'unsafe', 'flimsy', 'messy', 'sticky', 'poor', 'overpriced', 'underwhelming', 'annoying', 'defective', 'weak', 'limited','unhealthy', 'burned', 'undercooked', 'dry', 'soggy']\n",
    "labels = []\n",
    "\n",
    "for review in df['Review Text']:\n",
    "    review_words = review.split()\n",
    "    \n",
    "    pos_count = sum(1 for word in review_words if word in positive_words)\n",
    "    neg_count = sum(1 for word in review_words if word in negative_words)\n",
    "\n",
    "    if pos_count > neg_count:\n",
    "        labels.append(1)\n",
    "    elif neg_count > pos_count:\n",
    "        labels.append(0)\n",
    "    else:\n",
    "        labels.append(np.random.choice([0, 1]))"
   ]
  },
  {
   "cell_type": "code",
   "execution_count": 35,
   "id": "3d4e2d65-aa5d-4c52-9fb5-c2a4010fd885",
   "metadata": {},
   "outputs": [],
   "source": [
    "df['label'] = labels"
   ]
  },
  {
   "cell_type": "code",
   "execution_count": 36,
   "id": "163416b8-0375-4600-9793-aaaa96c7be51",
   "metadata": {},
   "outputs": [
    {
     "name": "stdout",
     "output_type": "stream",
     "text": [
      "label\n",
      "1    995\n",
      "0    760\n",
      "Name: count, dtype: int64\n",
      "(1755, 5)\n"
     ]
    }
   ],
   "source": [
    "print(df['label'].value_counts())\n",
    "print(df.shape)"
   ]
  },
  {
   "cell_type": "markdown",
   "id": "9bcca114-fd82-429a-b170-f693afab1106",
   "metadata": {},
   "source": [
    "Balancing Dataset"
   ]
  },
  {
   "cell_type": "code",
   "execution_count": 37,
   "id": "2adbe8a1-99e5-4d58-8d7c-db2679322edf",
   "metadata": {},
   "outputs": [],
   "source": [
    "from sklearn.utils import resample\n",
    "\n",
    "# Separate majority and minority classes\n",
    "df_majority = df[df['label'] == 0]\n",
    "df_minority = df[df['label'] == 1]\n",
    "\n",
    "df_minority_upsampled = resample(\n",
    "    df_minority, \n",
    "    replace=True,    \n",
    "    n_samples=len(df_majority),   \n",
    "    random_state=42\n",
    ")\n",
    "\n",
    "df_balanced = pd.concat([df_majority, df_minority_upsampled])\n",
    "\n",
    "df_balanced = df_balanced.sample(frac=1, random_state=42).reset_index(drop=True)\n",
    "\n",
    "labels = df_balanced['label'].tolist()\n",
    "vectors = np.array([\n",
    "    np.mean([glove_dict[word] for word in review.split() if word in glove_dict] or [np.zeros(50)], axis=0)\n",
    "    for review in df_balanced['Review Text']\n",
    "])"
   ]
  },
  {
   "cell_type": "markdown",
   "id": "8c60d581-1c84-4dbf-9264-f2f6c67731ad",
   "metadata": {},
   "source": [
    "Data Splitting"
   ]
  },
  {
   "cell_type": "code",
   "execution_count": 38,
   "id": "72bcb3fc-34b0-40d3-b05c-440cd27045b7",
   "metadata": {},
   "outputs": [],
   "source": [
    "from sklearn.model_selection import train_test_split\n",
    "\n",
    "x_train, x_test, y_train, y_test = train_test_split(vectors, labels, test_size=0.2, random_state=42)"
   ]
  },
  {
   "cell_type": "code",
   "execution_count": 39,
   "id": "e3bf36aa-4ab3-424b-a7ce-a1736447c9c6",
   "metadata": {},
   "outputs": [],
   "source": [
    "import torch\n",
    "\n",
    "x_train = torch.tensor(x_train, dtype=torch.float32)\n",
    "y_train = torch.tensor(y_train, dtype=torch.long)\n",
    "\n",
    "x_test = torch.tensor(x_test, dtype=torch.float32)\n",
    "y_test = torch.tensor(y_test, dtype=torch.long)"
   ]
  },
  {
   "cell_type": "code",
   "execution_count": 40,
   "id": "af31667e-51c9-4e6d-b47e-3e47eeab88ca",
   "metadata": {},
   "outputs": [],
   "source": [
    "#DataLoaders\n",
    "from torch.utils.data import TensorDataset, DataLoader\n",
    "\n",
    "train_dataset = TensorDataset(x_train, y_train)\n",
    "test_dataset = TensorDataset(x_test, y_test)\n",
    "\n",
    "train_loader = DataLoader(train_dataset, batch_size=16, shuffle=True)\n",
    "test_loader = DataLoader(test_dataset, batch_size=16)"
   ]
  },
  {
   "cell_type": "markdown",
   "id": "10cc93d2-97e0-488a-b677-2ec8c69b45b9",
   "metadata": {},
   "source": [
    "Building Models"
   ]
  },
  {
   "cell_type": "code",
   "execution_count": 41,
   "id": "86de59ae-08ee-4df6-bd0a-50d6b2e5d804",
   "metadata": {},
   "outputs": [],
   "source": [
    "import torch.nn as nn\n",
    "import torch.optim as optim"
   ]
  },
  {
   "cell_type": "markdown",
   "id": "971a5a6d-52b4-4d52-90b5-77344dea5c39",
   "metadata": {},
   "source": [
    "Basic Neural Network with 4 Hidden Layers"
   ]
  },
  {
   "cell_type": "code",
   "execution_count": 42,
   "id": "a4408710-3c10-4704-af58-de82bd3566fd",
   "metadata": {},
   "outputs": [],
   "source": [
    "model = nn.Sequential(\n",
    "    nn.Linear(50, 128),  \n",
    "    nn.ReLU(),\n",
    "    nn.Linear(128, 64),   \n",
    "    nn.ReLU(),\n",
    "    nn.Linear(64, 32),    \n",
    "    nn.ReLU(),\n",
    "    nn.Linear(32, 16),    \n",
    "    nn.ReLU(),\n",
    "    nn.Linear(16, 2)      \n",
    ")\n",
    "\n",
    "loss_fn = nn.CrossEntropyLoss()\n",
    "optimizer = optim.Adam(model.parameters(), lr=0.01)"
   ]
  },
  {
   "cell_type": "code",
   "execution_count": 43,
   "id": "6faf97bd-97d3-479a-a5c0-be98c71353af",
   "metadata": {},
   "outputs": [
    {
     "name": "stdout",
     "output_type": "stream",
     "text": [
      "Epoch 1/15, Loss: 42.3622\n",
      "Epoch 2/15, Loss: 31.9298\n",
      "Epoch 3/15, Loss: 28.4549\n",
      "Epoch 4/15, Loss: 25.2346\n",
      "Epoch 5/15, Loss: 24.8243\n",
      "Epoch 6/15, Loss: 19.6393\n",
      "Epoch 7/15, Loss: 21.4568\n",
      "Epoch 8/15, Loss: 19.0565\n",
      "Epoch 9/15, Loss: 17.7280\n",
      "Epoch 10/15, Loss: 16.5495\n",
      "Epoch 11/15, Loss: 15.2793\n",
      "Epoch 12/15, Loss: 14.3278\n",
      "Epoch 13/15, Loss: 12.2094\n",
      "Epoch 14/15, Loss: 12.8844\n",
      "Epoch 15/15, Loss: 14.2054\n"
     ]
    }
   ],
   "source": [
    "epochs = 15\n",
    "\n",
    "for epoch in range(epochs):\n",
    "    total_loss = 0\n",
    "    for batch_x, batch_y in train_loader:\n",
    "        optimizer.zero_grad()\n",
    "        outputs = model(batch_x)\n",
    "        loss = loss_fn(outputs, batch_y)\n",
    "        loss.backward()\n",
    "        optimizer.step()\n",
    "        total_loss += loss.item()\n",
    "    \n",
    "    print(f\"Epoch {epoch+1}/{epochs}, Loss: {total_loss:.4f}\")"
   ]
  },
  {
   "cell_type": "code",
   "execution_count": 44,
   "id": "b0d3b880-d587-485c-bebe-ac80acf462ff",
   "metadata": {},
   "outputs": [
    {
     "name": "stdout",
     "output_type": "stream",
     "text": [
      "Test Accuracy: 91.11842105263158%\n"
     ]
    }
   ],
   "source": [
    "correct = 0\n",
    "total = 0\n",
    "\n",
    "with torch.no_grad():\n",
    "    for batch_x, batch_y in test_loader:\n",
    "        outputs = model(batch_x)\n",
    "        _, predicted = torch.max(outputs, 1)\n",
    "        total += batch_y.size(0)\n",
    "        correct += (predicted == batch_y).sum().item()\n",
    "\n",
    "print(f\"Test Accuracy: {100 * correct / total}%\")"
   ]
  },
  {
   "cell_type": "code",
   "execution_count": 45,
   "id": "26aab03b-aa68-4c2a-a476-3fcd9ee8f099",
   "metadata": {},
   "outputs": [],
   "source": [
    "from sklearn.metrics import accuracy_score, precision_score, recall_score, f1_score"
   ]
  },
  {
   "cell_type": "code",
   "execution_count": 46,
   "id": "04a6c33c-3a59-428c-98d6-5d094cce48c5",
   "metadata": {},
   "outputs": [],
   "source": [
    "y_true = []\n",
    "y_pred = []\n",
    "\n",
    "model.eval()\n",
    "with torch.no_grad():\n",
    "    for inputs, labels in test_loader:\n",
    "        outputs = model(inputs)\n",
    "        predicted = torch.argmax(outputs, dim=1)\n",
    "        y_true.extend(labels.cpu().numpy())\n",
    "        y_pred.extend(predicted.cpu().numpy())"
   ]
  },
  {
   "cell_type": "code",
   "execution_count": 47,
   "id": "b62d2583-6bba-47c3-b811-7d462d772aae",
   "metadata": {},
   "outputs": [
    {
     "name": "stdout",
     "output_type": "stream",
     "text": [
      "Accuracy:  0.9111842105263158\n",
      "Precision: 0.9038461538461539\n",
      "Recall:    0.9215686274509803\n",
      "F1 Score:  0.9126213592233009\n"
     ]
    }
   ],
   "source": [
    "accuracy = accuracy_score(y_true, y_pred)\n",
    "precision = precision_score(y_true, y_pred)\n",
    "recall = recall_score(y_true, y_pred)\n",
    "f1 = f1_score(y_true, y_pred)\n",
    "\n",
    "print(f\"Accuracy:  {accuracy}\")\n",
    "print(f\"Precision: {precision}\")\n",
    "print(f\"Recall:    {recall}\")\n",
    "print(f\"F1 Score:  {f1}\")"
   ]
  },
  {
   "cell_type": "code",
   "execution_count": 48,
   "id": "f2eae1b2-f63d-4772-913f-06a1d4b57879",
   "metadata": {},
   "outputs": [
    {
     "data": {
      "text/plain": [
       "array([[136,  15],\n",
       "       [ 12, 141]], dtype=int64)"
      ]
     },
     "execution_count": 48,
     "metadata": {},
     "output_type": "execute_result"
    }
   ],
   "source": [
    "import matplotlib.pyplot as plt\n",
    "import seaborn as sns\n",
    "from sklearn.metrics import confusion_matrix, ConfusionMatrixDisplay\n",
    "\n",
    "cm = confusion_matrix(y_true, y_pred)\n",
    "cm"
   ]
  },
  {
   "cell_type": "code",
   "execution_count": 49,
   "id": "2c0a5fea-96f1-4859-8e86-68d3dd5637ce",
   "metadata": {},
   "outputs": [
    {
     "data": {
      "image/png": "[encoded data removed]",
      "text/plain": [
       "<Figure size 600x500 with 2 Axes>"
      ]
     },
     "metadata": {},
     "output_type": "display_data"
    }
   ],
   "source": [
    "plt.figure(figsize=(6, 5))\n",
    "sns.heatmap(cm, annot=True, fmt='d', cmap='Blues', xticklabels=[\"Class 0\", \"Class 1\"], yticklabels=[\"Class 0\", \"Class 1\"])\n",
    "plt.xlabel('Predicted Labels')\n",
    "plt.ylabel('True Labels')\n",
    "plt.title('Confusion Matrix')\n",
    "plt.show()"
   ]
  },
  {
   "cell_type": "markdown",
   "id": "f9da76f1-4c89-4c73-a8cc-ed9c44910d1d",
   "metadata": {},
   "source": [
    "Artificial Neural Network Model"
   ]
  },
  {
   "cell_type": "code",
   "execution_count": 50,
   "id": "e493e3c2-b8da-4db3-8a29-c8eec5e3be81",
   "metadata": {},
   "outputs": [],
   "source": [
    "class ANN(nn.Module):\n",
    "    def __init__(self, input_dim, hidden_dim, output_dim):\n",
    "        super(ANN, self).__init__()\n",
    "        self.fc1 = nn.Linear(input_dim, hidden_dim)\n",
    "        self.relu = nn.ReLU()\n",
    "        self.fc2 = nn.Linear(hidden_dim, output_dim)\n",
    "        self.softmax = nn.LogSoftmax(dim=1)\n",
    "\n",
    "    def forward(self, x):\n",
    "        out = self.fc1(x)\n",
    "        out = self.relu(out)\n",
    "        out = self.fc2(out)\n",
    "        return self.softmax(out)"
   ]
  },
  {
   "cell_type": "code",
   "execution_count": 51,
   "id": "e7af8e69-eaa7-4dac-8e23-56264f1101eb",
   "metadata": {},
   "outputs": [],
   "source": [
    "#Model Initialization\n",
    "input_dim = x_train.shape[1]\n",
    "hidden_dim = 128\n",
    "output_dim = len(set(labels))  \n",
    "\n",
    "model = ANN(input_dim, hidden_dim, output_dim)\n",
    "criterion = nn.NLLLoss()\n",
    "optimizer = optim.Adam(model.parameters(), lr=0.01)"
   ]
  },
  {
   "cell_type": "code",
   "execution_count": 52,
   "id": "791ca114-875c-49a6-a120-fb5ee8a27a86",
   "metadata": {},
   "outputs": [
    {
     "name": "stdout",
     "output_type": "stream",
     "text": [
      "Epoch [1/20], Loss: 49.7760\n",
      "Epoch [2/20], Loss: 31.7318\n",
      "Epoch [3/20], Loss: 28.4171\n",
      "Epoch [4/20], Loss: 24.4554\n",
      "Epoch [5/20], Loss: 23.9740\n",
      "Epoch [6/20], Loss: 21.5797\n",
      "Epoch [7/20], Loss: 22.4227\n",
      "Epoch [8/20], Loss: 18.4273\n",
      "Epoch [9/20], Loss: 19.4811\n",
      "Epoch [10/20], Loss: 15.9532\n",
      "Epoch [11/20], Loss: 15.1953\n",
      "Epoch [12/20], Loss: 14.4382\n",
      "Epoch [13/20], Loss: 15.0484\n",
      "Epoch [14/20], Loss: 13.2235\n",
      "Epoch [15/20], Loss: 12.0544\n",
      "Epoch [16/20], Loss: 10.8174\n",
      "Epoch [17/20], Loss: 11.9172\n",
      "Epoch [18/20], Loss: 10.3101\n",
      "Epoch [19/20], Loss: 9.0262\n",
      "Epoch [20/20], Loss: 8.5511\n"
     ]
    }
   ],
   "source": [
    "epochs = 20\n",
    "for epoch in range(epochs):\n",
    "    model.train()\n",
    "    total_loss = 0\n",
    "    for inputs, targets in train_loader:\n",
    "        optimizer.zero_grad()\n",
    "        outputs = model(inputs)\n",
    "        loss = criterion(outputs, targets)\n",
    "        loss.backward()\n",
    "        optimizer.step()\n",
    "        total_loss += loss.item()\n",
    "    print(f\"Epoch [{epoch+1}/{epochs}], Loss: {total_loss:.4f}\")"
   ]
  },
  {
   "cell_type": "code",
   "execution_count": 53,
   "id": "0073d383-5832-4e28-811e-85f39bb21a85",
   "metadata": {},
   "outputs": [
    {
     "name": "stdout",
     "output_type": "stream",
     "text": [
      "Accuracy: 0.9177631578947368\n",
      "Precision: 0.9177776828434724\n",
      "Recall: 0.9177631578947368\n",
      "F1 Score: 0.9177604880696552\n"
     ]
    }
   ],
   "source": [
    "model.eval()\n",
    "y_true, y_pred = [], []\n",
    "with torch.no_grad():\n",
    "    for inputs, targets in test_loader:\n",
    "        outputs = model(inputs)\n",
    "        _, predicted = torch.max(outputs, 1)\n",
    "        y_true.extend(targets.numpy())\n",
    "        y_pred.extend(predicted.numpy())\n",
    "\n",
    "print(\"Accuracy:\", accuracy_score(y_true, y_pred))\n",
    "print(\"Precision:\", precision_score(y_true, y_pred, average=\"weighted\"))\n",
    "print(\"Recall:\", recall_score(y_true, y_pred, average=\"weighted\"))\n",
    "print(\"F1 Score:\", f1_score(y_true, y_pred, average=\"weighted\"))"
   ]
  },
  {
   "cell_type": "code",
   "execution_count": 54,
   "id": "100ffbf9-6f12-48fd-bc40-56e4e6f94482",
   "metadata": {},
   "outputs": [
    {
     "name": "stdout",
     "output_type": "stream",
     "text": [
      "[[138  13]\n",
      " [ 12 141]]\n"
     ]
    },
    {
     "data": {
      "image/png": "[encoded data removed]",
      "text/plain": [
       "<Figure size 640x480 with 2 Axes>"
      ]
     },
     "metadata": {},
     "output_type": "display_data"
    }
   ],
   "source": [
    "cm = confusion_matrix(y_true, y_pred)\n",
    "print(cm)\n",
    "sns.heatmap(cm, annot=True, fmt=\"d\", cmap=\"Blues\")\n",
    "plt.xlabel(\"Predicted\")\n",
    "plt.ylabel(\"Actual\")\n",
    "plt.title(\"Confusion Matrix - ANN\")\n",
    "plt.show()"
   ]
  },
  {
   "cell_type": "markdown",
   "id": "c7cd5dd9-c7f4-41f5-9d0f-92304929cdad",
   "metadata": {},
   "source": [
    "Long Short-Term Memory Model "
   ]
  },
  {
   "cell_type": "code",
   "execution_count": 55,
   "id": "5a5c20a7-8307-4205-9a4a-a5ee97dcf297",
   "metadata": {},
   "outputs": [],
   "source": [
    "class LSTMModel(nn.Module):\n",
    "    def __init__(self, input_dim, hidden_dim, output_dim, num_layers=1):\n",
    "        super(LSTMModel, self).__init__()\n",
    "        self.lstm = nn.LSTM(input_dim, hidden_dim, num_layers, batch_first=True)\n",
    "        self.fc = nn.Linear(hidden_dim, output_dim)\n",
    "        self.softmax = nn.LogSoftmax(dim=1)\n",
    "\n",
    "    def forward(self, x):\n",
    "        x = x.unsqueeze(1)\n",
    "        lstm_out, (hn, cn) = self.lstm(x)\n",
    "        out = self.fc(hn[-1])  \n",
    "        return self.softmax(out)"
   ]
  },
  {
   "cell_type": "code",
   "execution_count": 56,
   "id": "d084c351-8473-4b30-8232-34279278520b",
   "metadata": {},
   "outputs": [],
   "source": [
    "input_dim = x_train.shape[1]\n",
    "hidden_dim = 128\n",
    "output_dim = len(set(labels))  \n",
    "\n",
    "model = LSTMModel(input_dim, hidden_dim, output_dim)\n",
    "criterion = nn.NLLLoss()\n",
    "optimizer = optim.Adam(model.parameters(), lr=0.01)"
   ]
  },
  {
   "cell_type": "code",
   "execution_count": 57,
   "id": "bff22cde-b940-49f2-877a-0d1f8533754b",
   "metadata": {},
   "outputs": [
    {
     "name": "stdout",
     "output_type": "stream",
     "text": [
      "Epoch [1/20], Loss: 53.3019\n",
      "Epoch [2/20], Loss: 32.1667\n",
      "Epoch [3/20], Loss: 29.0252\n",
      "Epoch [4/20], Loss: 25.6665\n",
      "Epoch [5/20], Loss: 23.4922\n",
      "Epoch [6/20], Loss: 22.7815\n",
      "Epoch [7/20], Loss: 21.2846\n",
      "Epoch [8/20], Loss: 18.8850\n",
      "Epoch [9/20], Loss: 18.0755\n",
      "Epoch [10/20], Loss: 14.9168\n",
      "Epoch [11/20], Loss: 14.5128\n",
      "Epoch [12/20], Loss: 13.4628\n",
      "Epoch [13/20], Loss: 12.0608\n",
      "Epoch [14/20], Loss: 13.1533\n",
      "Epoch [15/20], Loss: 12.2099\n",
      "Epoch [16/20], Loss: 11.8818\n",
      "Epoch [17/20], Loss: 10.2933\n",
      "Epoch [18/20], Loss: 9.3961\n",
      "Epoch [19/20], Loss: 8.4509\n",
      "Epoch [20/20], Loss: 7.8870\n"
     ]
    }
   ],
   "source": [
    "epochs = 20\n",
    "for epoch in range(epochs):\n",
    "    model.train()\n",
    "    total_loss = 0\n",
    "    for inputs, targets in train_loader:\n",
    "        optimizer.zero_grad()\n",
    "        outputs = model(inputs)\n",
    "        loss = criterion(outputs, targets)\n",
    "        loss.backward()\n",
    "        optimizer.step()\n",
    "        total_loss += loss.item()\n",
    "    print(f\"Epoch [{epoch+1}/{epochs}], Loss: {total_loss:.4f}\")"
   ]
  },
  {
   "cell_type": "code",
   "execution_count": 58,
   "id": "24ab07ad-657b-4fd1-a292-1b5b7739c3be",
   "metadata": {},
   "outputs": [],
   "source": [
    "model.eval()\n",
    "y_true, y_pred = [], []\n",
    "with torch.no_grad():\n",
    "    for inputs, targets in test_loader:\n",
    "        outputs = model(inputs)\n",
    "        _, predicted = torch.max(outputs, 1)\n",
    "        y_true.extend(targets.numpy())\n",
    "        y_pred.extend(predicted.numpy())"
   ]
  },
  {
   "cell_type": "code",
   "execution_count": 59,
   "id": "32707b80-878f-476f-8046-63ad3f450300",
   "metadata": {},
   "outputs": [
    {
     "name": "stdout",
     "output_type": "stream",
     "text": [
      "Accuracy: 0.9177631578947368\n",
      "Precision: 0.9179366028708135\n",
      "Recall: 0.9177631578947368\n",
      "F1 Score: 0.9177604883007714\n"
     ]
    }
   ],
   "source": [
    "print(\"Accuracy:\", accuracy_score(y_true, y_pred))\n",
    "print(\"Precision:\", precision_score(y_true, y_pred, average=\"weighted\"))\n",
    "print(\"Recall:\", recall_score(y_true, y_pred, average=\"weighted\"))\n",
    "print(\"F1 Score:\", f1_score(y_true, y_pred, average=\"weighted\"))"
   ]
  },
  {
   "cell_type": "code",
   "execution_count": 60,
   "id": "09a37631-6b07-4851-a4d5-1cf54bfed73c",
   "metadata": {},
   "outputs": [
    {
     "name": "stdout",
     "output_type": "stream",
     "text": [
      "[[140  11]\n",
      " [ 14 139]]\n"
     ]
    },
    {
     "data": {
      "image/png": "[encoded data removed]",
      "text/plain": [
       "<Figure size 640x480 with 2 Axes>"
      ]
     },
     "metadata": {},
     "output_type": "display_data"
    }
   ],
   "source": [
    "cm = confusion_matrix(y_true, y_pred)\n",
    "print(cm)\n",
    "sns.heatmap(cm, annot=True, fmt=\"d\", cmap=\"Blues\")\n",
    "plt.xlabel(\"Predicted\")\n",
    "plt.ylabel(\"Actual\")\n",
    "plt.title(\"Confusion Matrix - LSTM\")\n",
    "plt.show()"
   ]
  },
  {
   "cell_type": "code",
   "execution_count": 61,
   "id": "a76b41e6-bcad-490e-9c53-10f732c4f345",
   "metadata": {},
   "outputs": [
    {
     "data": {
      "image/png": "[encoded data removed]",
      "text/plain": [
       "<Figure size 640x480 with 1 Axes>"
      ]
     },
     "metadata": {},
     "output_type": "display_data"
    }
   ],
   "source": [
    "X = [\"Basic NN\", \"ANN\", \"LSTM\"]\n",
    "Y = [0.9111842105263158, 0.9177631578947368, 0.9177631578947368]\n",
    "\n",
    "plt.bar(X, Y, color=['skyblue', 'orange', 'green'])\n",
    "plt.ylabel(\"Accuracy\")\n",
    "plt.title(\"Model Accuracy Comparison\")\n",
    "\n",
    "for i, v in enumerate(Y):\n",
    "    plt.text(i, v + 0.002, f\"{v*100:.2f}%\", ha='center', fontweight='bold')\n",
    "\n",
    "plt.ylim(0.9, 0.93)  \n",
    "plt.show()"
   ]
  },
  {
   "cell_type": "code",
   "execution_count": null,
   "id": "a6113825-3ad9-4e2f-bc2c-aa0c5658ba8e",
   "metadata": {},
   "outputs": [],
   "source": []
  }
 ],
 "metadata": {
  "kernelspec": {
   "display_name": "Python 3 (ipykernel)",
   "language": "python",
   "name": "python3"
  },
  "language_info": {
   "codemirror_mode": {
    "name": "ipython",
    "version": 3
   },
   "file_extension": ".py",
   "mimetype": "text/x-python",
   "name": "python",
   "nbconvert_exporter": "python",
   "pygments_lexer": "ipython3",
   "version": "3.11.7"
  }
 },
 "nbformat": 4,
 "nbformat_minor": 5
}
